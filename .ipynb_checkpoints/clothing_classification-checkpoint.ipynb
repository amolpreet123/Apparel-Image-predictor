{
 "cells": [
  {
   "cell_type": "code",
   "execution_count": 1,
   "metadata": {
    "colab": {
     "base_uri": "https://localhost:8080/",
     "height": 34
    },
    "colab_type": "code",
    "executionInfo": {
     "elapsed": 2573,
     "status": "ok",
     "timestamp": 1590577341822,
     "user": {
      "displayName": "Amolpreet Singh",
      "photoUrl": "https://lh3.googleusercontent.com/a-/AOh14GgvTdmb1HG7x9kZmkDfN_jg-E-Hz-Qtn7wYpBV6jA=s64",
      "userId": "04139945564925032317"
     },
     "user_tz": -330
    },
    "id": "9-acOnxskNaM",
    "outputId": "a4a1294b-7ac1-4e73-c7ec-75a90b5c1004"
   },
   "outputs": [
    {
     "name": "stderr",
     "output_type": "stream",
     "text": [
      "Using TensorFlow backend.\n"
     ]
    }
   ],
   "source": [
    "import numpy as np\n",
    "from keras.datasets import fashion_mnist\n",
    "from keras.utils import np_utils"
   ]
  },
  {
   "cell_type": "code",
   "execution_count": 0,
   "metadata": {
    "colab": {},
    "colab_type": "code",
    "id": "vUjTzFQHkyz9"
   },
   "outputs": [],
   "source": [
    "(X_train, y_train ), (X_test, y_test) = fashion_mnist.load_data()"
   ]
  },
  {
   "cell_type": "code",
   "execution_count": 3,
   "metadata": {
    "colab": {
     "base_uri": "https://localhost:8080/",
     "height": 51
    },
    "colab_type": "code",
    "executionInfo": {
     "elapsed": 628,
     "status": "ok",
     "timestamp": 1590577345938,
     "user": {
      "displayName": "Amolpreet Singh",
      "photoUrl": "https://lh3.googleusercontent.com/a-/AOh14GgvTdmb1HG7x9kZmkDfN_jg-E-Hz-Qtn7wYpBV6jA=s64",
      "userId": "04139945564925032317"
     },
     "user_tz": -330
    },
    "id": "f01IDfVRlI-t",
    "outputId": "13df5e5c-4894-4c2e-d248-f34c531a5359"
   },
   "outputs": [
    {
     "name": "stdout",
     "output_type": "stream",
     "text": [
      "no of sample  60000\n",
      "image : (28, 28)\n"
     ]
    }
   ],
   "source": [
    "print(\"no of sample \", len(X_train))\n",
    "print(\"image :\", X_train[0].shape)"
   ]
  },
  {
   "cell_type": "code",
   "execution_count": 4,
   "metadata": {
    "colab": {
     "base_uri": "https://localhost:8080/",
     "height": 51
    },
    "colab_type": "code",
    "executionInfo": {
     "elapsed": 637,
     "status": "ok",
     "timestamp": 1590577347156,
     "user": {
      "displayName": "Amolpreet Singh",
      "photoUrl": "https://lh3.googleusercontent.com/a-/AOh14GgvTdmb1HG7x9kZmkDfN_jg-E-Hz-Qtn7wYpBV6jA=s64",
      "userId": "04139945564925032317"
     },
     "user_tz": -330
    },
    "id": "JkVhf8dNllz2",
    "outputId": "f64facef-ea11-470f-8713-79437dddc3bc"
   },
   "outputs": [
    {
     "name": "stdout",
     "output_type": "stream",
     "text": [
      "no of test samples 10000\n",
      "image (28, 28)\n"
     ]
    }
   ],
   "source": [
    "print(\"no of test samples\", len(X_test))\n",
    "print(\"image\", X_test[0].shape)"
   ]
  },
  {
   "cell_type": "code",
   "execution_count": 0,
   "metadata": {
    "colab": {},
    "colab_type": "code",
    "id": "XnS7u-bxlxn0"
   },
   "outputs": [],
   "source": [
    "from keras.utils import np_utils\n",
    "import keras \n",
    "from keras.models import Sequential\n",
    "from keras.layers import Dense, Flatten , Dropout\n",
    "from keras.layers import Conv2D, MaxPool2D, BatchNormalization\n",
    "from keras import backend as K\n"
   ]
  },
  {
   "cell_type": "code",
   "execution_count": 0,
   "metadata": {
    "colab": {},
    "colab_type": "code",
    "id": "bG6w1vGJm7Kt"
   },
   "outputs": [],
   "source": [
    "batch_size = 128\n",
    "epochs = 10\n",
    "\n",
    "img_rows = X_train[0].shape[0]\n",
    "img_cols = X_test[1].shape[0]\n",
    "\n",
    "\n"
   ]
  },
  {
   "cell_type": "code",
   "execution_count": 0,
   "metadata": {
    "colab": {},
    "colab_type": "code",
    "id": "gZzYW1YYoKfz"
   },
   "outputs": [],
   "source": [
    "X_train = X_train.reshape(X_train.shape[0],img_rows, img_cols, 1)\n",
    "X_test = X_test.reshape(X_test.shape[0],img_rows, img_cols, 1)\n"
   ]
  },
  {
   "cell_type": "code",
   "execution_count": 0,
   "metadata": {
    "colab": {},
    "colab_type": "code",
    "id": "-qoP_Pt4o1FD"
   },
   "outputs": [],
   "source": [
    "input_shape = (img_rows, img_cols, 1)\n"
   ]
  },
  {
   "cell_type": "code",
   "execution_count": 0,
   "metadata": {
    "colab": {},
    "colab_type": "code",
    "id": "tIScCaX1pcoY"
   },
   "outputs": [],
   "source": [
    "X_train = X_train.astype('float32')\n",
    "X_test = X_test.astype('float32')"
   ]
  },
  {
   "cell_type": "code",
   "execution_count": 0,
   "metadata": {
    "colab": {},
    "colab_type": "code",
    "id": "4L5aEqnRp2ev"
   },
   "outputs": [],
   "source": [
    "X_train /=255\n",
    "X_test /=255"
   ]
  },
  {
   "cell_type": "code",
   "execution_count": 19,
   "metadata": {
    "colab": {
     "base_uri": "https://localhost:8080/",
     "height": 88
    },
    "colab_type": "code",
    "executionInfo": {
     "elapsed": 5141,
     "status": "ok",
     "timestamp": 1590577643739,
     "user": {
      "displayName": "Amolpreet Singh",
      "photoUrl": "https://lh3.googleusercontent.com/a-/AOh14GgvTdmb1HG7x9kZmkDfN_jg-E-Hz-Qtn7wYpBV6jA=s64",
      "userId": "04139945564925032317"
     },
     "user_tz": -330
    },
    "id": "2z97aXH6wwWp",
    "outputId": "39bf33a4-55fb-4de4-e17b-8c62b0ca3c70"
   },
   "outputs": [
    {
     "name": "stdout",
     "output_type": "stream",
     "text": [
      "Requirement already satisfied: np-utils in /usr/local/lib/python3.6/dist-packages (0.5.12.1)\n",
      "Requirement already satisfied: numpy>=1.0 in /usr/local/lib/python3.6/dist-packages (from np-utils) (1.18.4)\n",
      "Requirement already satisfied: future>=0.16 in /usr/local/lib/python3.6/dist-packages (from np-utils) (0.16.0)\n"
     ]
    }
   ],
   "source": [
    "!pip install np-utils"
   ]
  },
  {
   "cell_type": "code",
   "execution_count": 0,
   "metadata": {
    "colab": {},
    "colab_type": "code",
    "id": "nDdI1Ev-p9nF"
   },
   "outputs": [],
   "source": [
    "#one hot encoding\n",
    "\n",
    "y_train = np_utils.to_categorical(y_train)\n",
    "y_test = np_utils.to_categorical(y_test)"
   ]
  },
  {
   "cell_type": "code",
   "execution_count": 0,
   "metadata": {
    "colab": {},
    "colab_type": "code",
    "id": "gmzu8tfD24gJ"
   },
   "outputs": [],
   "source": [
    "num_classes = y_test.shape[1]\n",
    "num_pixels = X_train.shape[1] * X_train.shape[2]"
   ]
  },
  {
   "cell_type": "code",
   "execution_count": 0,
   "metadata": {
    "colab": {},
    "colab_type": "code",
    "id": "um4BRNdFwvnE"
   },
   "outputs": [],
   "source": [
    "# cNN model\n",
    "model = Sequential()\n",
    "\n",
    "model.add(Conv2D(32, kernel_size=(3,3), activation='relu', input_shape=input_shape))\n",
    "model.add(BatchNormalization())\n",
    "\n",
    "model.add(Conv2D(64, (3,3) , activation='relu'))\n",
    "model.add(BatchNormalization())\n",
    "\n",
    "model.add(MaxPool2D(pool_size=(2,2)))\n",
    "model.add(Dropout(0.25))\n",
    "\n",
    "model.add(Flatten())\n",
    "model.add(Dense(128,activation='relu'))\n",
    "model.add(BatchNormalization())\n",
    "\n",
    "model.add(Dropout(0.5))\n",
    "model.add(Dense(num_classes, activation='softmax'))\n",
    "\n",
    "model.compile(loss = 'categorical_crossentropy', optimizer = keras.optimizers.Adadelta(),metrics=['accuracy'])"
   ]
  },
  {
   "cell_type": "code",
   "execution_count": 27,
   "metadata": {
    "colab": {
     "base_uri": "https://localhost:8080/",
     "height": 527
    },
    "colab_type": "code",
    "executionInfo": {
     "elapsed": 1170,
     "status": "ok",
     "timestamp": 1590578773290,
     "user": {
      "displayName": "Amolpreet Singh",
      "photoUrl": "https://lh3.googleusercontent.com/a-/AOh14GgvTdmb1HG7x9kZmkDfN_jg-E-Hz-Qtn7wYpBV6jA=s64",
      "userId": "04139945564925032317"
     },
     "user_tz": -330
    },
    "id": "pl2JFuxS0UYG",
    "outputId": "35f40317-6d9e-485b-f927-10cbdf3f183d"
   },
   "outputs": [
    {
     "name": "stdout",
     "output_type": "stream",
     "text": [
      "Model: \"sequential_2\"\n",
      "_________________________________________________________________\n",
      "Layer (type)                 Output Shape              Param #   \n",
      "=================================================================\n",
      "conv2d_2 (Conv2D)            (None, 26, 26, 32)        320       \n",
      "_________________________________________________________________\n",
      "batch_normalization_2 (Batch (None, 26, 26, 32)        128       \n",
      "_________________________________________________________________\n",
      "conv2d_3 (Conv2D)            (None, 24, 24, 64)        18496     \n",
      "_________________________________________________________________\n",
      "batch_normalization_3 (Batch (None, 24, 24, 64)        256       \n",
      "_________________________________________________________________\n",
      "max_pooling2d_1 (MaxPooling2 (None, 12, 12, 64)        0         \n",
      "_________________________________________________________________\n",
      "dropout_1 (Dropout)          (None, 12, 12, 64)        0         \n",
      "_________________________________________________________________\n",
      "flatten_1 (Flatten)          (None, 9216)              0         \n",
      "_________________________________________________________________\n",
      "dense_1 (Dense)              (None, 128)               1179776   \n",
      "_________________________________________________________________\n",
      "batch_normalization_4 (Batch (None, 128)               512       \n",
      "_________________________________________________________________\n",
      "dropout_2 (Dropout)          (None, 128)               0         \n",
      "_________________________________________________________________\n",
      "dense_2 (Dense)              (None, 10)                1290      \n",
      "=================================================================\n",
      "Total params: 1,200,778\n",
      "Trainable params: 1,200,330\n",
      "Non-trainable params: 448\n",
      "_________________________________________________________________\n"
     ]
    }
   ],
   "source": [
    "model.summary()"
   ]
  },
  {
   "cell_type": "code",
   "execution_count": 28,
   "metadata": {
    "colab": {
     "base_uri": "https://localhost:8080/",
     "height": 394
    },
    "colab_type": "code",
    "executionInfo": {
     "elapsed": 1993665,
     "status": "ok",
     "timestamp": 1590581023200,
     "user": {
      "displayName": "Amolpreet Singh",
      "photoUrl": "https://lh3.googleusercontent.com/a-/AOh14GgvTdmb1HG7x9kZmkDfN_jg-E-Hz-Qtn7wYpBV6jA=s64",
      "userId": "04139945564925032317"
     },
     "user_tz": -330
    },
    "id": "bfeVVQ61p__5",
    "outputId": "d6be216a-7706-4bd5-9897-dcb6452b14e7"
   },
   "outputs": [
    {
     "name": "stdout",
     "output_type": "stream",
     "text": [
      "Train on 60000 samples, validate on 10000 samples\n",
      "Epoch 1/10\n",
      "60000/60000 [==============================] - 201s 3ms/step - loss: 0.4519 - accuracy: 0.8466 - val_loss: 1.2632 - val_accuracy: 0.5834\n",
      "Epoch 2/10\n",
      "60000/60000 [==============================] - 204s 3ms/step - loss: 0.2883 - accuracy: 0.8973 - val_loss: 0.2764 - val_accuracy: 0.8996\n",
      "Epoch 3/10\n",
      "60000/60000 [==============================] - 198s 3ms/step - loss: 0.2388 - accuracy: 0.9158 - val_loss: 0.2542 - val_accuracy: 0.9064\n",
      "Epoch 4/10\n",
      "60000/60000 [==============================] - 198s 3ms/step - loss: 0.2091 - accuracy: 0.9249 - val_loss: 0.2286 - val_accuracy: 0.9210\n",
      "Epoch 5/10\n",
      "60000/60000 [==============================] - 198s 3ms/step - loss: 0.1863 - accuracy: 0.9329 - val_loss: 0.2314 - val_accuracy: 0.9212\n",
      "Epoch 6/10\n",
      "60000/60000 [==============================] - 198s 3ms/step - loss: 0.1698 - accuracy: 0.9385 - val_loss: 0.2483 - val_accuracy: 0.9185\n",
      "Epoch 7/10\n",
      "60000/60000 [==============================] - 197s 3ms/step - loss: 0.1516 - accuracy: 0.9453 - val_loss: 0.2179 - val_accuracy: 0.9228\n",
      "Epoch 8/10\n",
      "60000/60000 [==============================] - 196s 3ms/step - loss: 0.1421 - accuracy: 0.9480 - val_loss: 0.2311 - val_accuracy: 0.9295\n",
      "Epoch 9/10\n",
      "60000/60000 [==============================] - 203s 3ms/step - loss: 0.1308 - accuracy: 0.9525 - val_loss: 0.2128 - val_accuracy: 0.9279\n",
      "Epoch 10/10\n",
      "60000/60000 [==============================] - 198s 3ms/step - loss: 0.1233 - accuracy: 0.9554 - val_loss: 0.2036 - val_accuracy: 0.9288\n"
     ]
    }
   ],
   "source": [
    "model_fitting = model.fit(X_train, y_train,\n",
    "                          batch_size=batch_size,\n",
    "                          epochs=epochs,\n",
    "                          verbose=1, \n",
    "                          validation_data=(X_test, y_test))"
   ]
  },
  {
   "cell_type": "code",
   "execution_count": 29,
   "metadata": {
    "colab": {
     "base_uri": "https://localhost:8080/",
     "height": 51
    },
    "colab_type": "code",
    "executionInfo": {
     "elapsed": 10339,
     "status": "ok",
     "timestamp": 1590581123390,
     "user": {
      "displayName": "Amolpreet Singh",
      "photoUrl": "https://lh3.googleusercontent.com/a-/AOh14GgvTdmb1HG7x9kZmkDfN_jg-E-Hz-Qtn7wYpBV6jA=s64",
      "userId": "04139945564925032317"
     },
     "user_tz": -330
    },
    "id": "_RegOxPs5eTx",
    "outputId": "e0fd025f-f2b3-43e6-e02e-892092e941b2"
   },
   "outputs": [
    {
     "name": "stdout",
     "output_type": "stream",
     "text": [
      "test loss: 0.20358640888929366\n",
      "Test accuracy: 0.9287999868392944\n"
     ]
    }
   ],
   "source": [
    "score = model.evaluate(X_test, y_test, verbose=0)\n",
    "print(\"test loss:\", score[0])\n",
    "print(\"Test accuracy:\", score[1])"
   ]
  },
  {
   "cell_type": "code",
   "execution_count": 2,
   "metadata": {
    "colab": {
     "base_uri": "https://localhost:8080/",
     "height": 224
    },
    "colab_type": "code",
    "executionInfo": {
     "elapsed": 122231,
     "status": "ok",
     "timestamp": 1590581588407,
     "user": {
      "displayName": "Amolpreet Singh",
      "photoUrl": "https://lh3.googleusercontent.com/a-/AOh14GgvTdmb1HG7x9kZmkDfN_jg-E-Hz-Qtn7wYpBV6jA=s64",
      "userId": "04139945564925032317"
     },
     "user_tz": -330
    },
    "id": "zoY5OBuTBaxy",
    "outputId": "27ad338b-011c-499d-d233-fe5c80053fcc"
   },
   "outputs": [],
   "source": [
    "#configure google drive\n"
   ]
  },
  {
   "cell_type": "code",
   "execution_count": 1,
   "metadata": {
    "colab": {
     "base_uri": "https://localhost:8080/",
     "height": 122
    },
    "colab_type": "code",
    "executionInfo": {
     "elapsed": 38291,
     "status": "ok",
     "timestamp": 1590581726252,
     "user": {
      "displayName": "Amolpreet Singh",
      "photoUrl": "https://lh3.googleusercontent.com/a-/AOh14GgvTdmb1HG7x9kZmkDfN_jg-E-Hz-Qtn7wYpBV6jA=s64",
      "userId": "04139945564925032317"
     },
     "user_tz": -330
    },
    "id": "4K6HfQH-CxOp",
    "outputId": "447d4320-7178-4ff8-9015-8a3ae70fcc86"
   },
   "outputs": [],
   "source": [
    "#mount the google drive\n"
   ]
  },
  {
   "cell_type": "code",
   "execution_count": 0,
   "metadata": {
    "colab": {},
    "colab_type": "code",
    "id": "XnTAybHwDXPU"
   },
   "outputs": [],
   "source": []
  },
  {
   "cell_type": "code",
   "execution_count": 0,
   "metadata": {
    "colab": {},
    "colab_type": "code",
    "id": "_lZuLxoiDxfb"
   },
   "outputs": [],
   "source": [
    "#saving model\n",
    "model.save('clothing_classification_model.h5')"
   ]
  },
  {
   "cell_type": "code",
   "execution_count": 0,
   "metadata": {
    "colab": {},
    "colab_type": "code",
    "id": "ve4KZsw9E-UV"
   },
   "outputs": [],
   "source": []
  }
 ],
 "metadata": {
  "accelerator": "TPU",
  "colab": {
   "authorship_tag": "ABX9TyMw9Drze6pzLeC0cM/VSz6j",
   "collapsed_sections": [],
   "name": "clothing_classification.ipynb",
   "provenance": []
  },
  "kernelspec": {
   "display_name": "Python 3",
   "language": "python",
   "name": "python3"
  },
  "language_info": {
   "codemirror_mode": {
    "name": "ipython",
    "version": 3
   },
   "file_extension": ".py",
   "mimetype": "text/x-python",
   "name": "python",
   "nbconvert_exporter": "python",
   "pygments_lexer": "ipython3",
   "version": "3.6.8"
  }
 },
 "nbformat": 4,
 "nbformat_minor": 1
}
